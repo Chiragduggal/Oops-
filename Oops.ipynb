{
  "nbformat": 4,
  "nbformat_minor": 0,
  "metadata": {
    "colab": {
      "provenance": []
    },
    "kernelspec": {
      "name": "python3",
      "display_name": "Python 3"
    },
    "language_info": {
      "name": "python"
    }
  },
  "cells": [
    {
      "cell_type": "markdown",
      "source": [
        "# Oops Theory Questions"
      ],
      "metadata": {
        "id": "jHeaMcWAbnjr"
      }
    },
    {
      "cell_type": "markdown",
      "source": [
        "1. What is Object-Oriented Programming (OOP) ?"
      ],
      "metadata": {
        "id": "FNJ0a9RmbwpW"
      }
    },
    {
      "cell_type": "markdown",
      "source": [
        "- Object-Oriented Programming (OOP) is a programming paradigm that revolves around the concept of \"objects,\" which are instances of \"classes\" that include both data and the functions (known as methods) that operate on that data. OOP is intended to represent real-world items and their interactions, making programs easier to understand, maintain, and extend. The four main principles of object-oriented programming are encapsulation (bundling data and methods within a class), inheritance (allowing one class to inherit features from another), polymorphism (allowing different classes to be treated through the same interface), and abstraction. OOP encourages systematic and scalable software development by organising code into modular, reusable components."
      ],
      "metadata": {
        "id": "zp4KYae-b5vi"
      }
    },
    {
      "cell_type": "markdown",
      "source": [
        "2. What is a class in OOP ?"
      ],
      "metadata": {
        "id": "bK6e0jhScU5E"
      }
    },
    {
      "cell_type": "markdown",
      "source": [
        "- In Object-Oriented Programming (OOP), a class is a blueprint or template for object creation. It specifies a collection of attributes (also known as variables or properties) and methods (functions) that the resulting objects will contain. A class does not contain actual data, but rather defines the structure and behaviour that its instances, known as objects, will follow. For example, a Car class could have attributes like colour, brand, and speed, as well as methods like accelerate() and brake(). When you create an object from this class, such as my_car = Car(), you receive a specific car with its own data that is based on the Car class's structure. Classes help organise code, encourage reusability, and make it easier to mimic real-world elements in programs."
      ],
      "metadata": {
        "id": "3EthJUj-cat0"
      }
    },
    {
      "cell_type": "markdown",
      "source": [
        "3. What is an object in OOP ?"
      ],
      "metadata": {
        "id": "zIejx-UDcqrE"
      }
    },
    {
      "cell_type": "markdown",
      "source": [
        "- Object-Oriented Programming (OOP) defines an object as a class instance that reflects a specific implementation of the class blueprint. While a class defines the structure and behaviour, an object holds actual data and can carry out the activities specified by the class' methods. For example, if you have a class Car, an object like my_car = Car() would represent a real, unique car with precise values for properties such as colour, brand, and speed. Objects can interact with one another and serve as the foundation for OOP. They encapsulate both state (data) and behaviour (functions), making it easier to manage complexity by modelling real-world things in a modular and organised manner."
      ],
      "metadata": {
        "id": "KM7kPdV4cxla"
      }
    },
    {
      "cell_type": "markdown",
      "source": [
        "4. What is the difference between abstraction and encapsulation ?"
      ],
      "metadata": {
        "id": "O4oelzqsc_mT"
      }
    },
    {
      "cell_type": "markdown",
      "source": [
        "- Abstraction and encapsulation are both basic notions in object-oriented programming, although they serve distinct functions. Abstraction is the process of concealing complex implementation details and exposing only the most important characteristics of an object to the outside world. It reduces complexity by emphasising what an object does rather than how it accomplishes it. For example, when driving a car, all you need to know is how to drive it—you don't need to know how the engine works. Encapsulation, on the other hand, is the process of enclosing data and methods that operate on it within a single unit, usually a class, and restricting access to some of the object's components. This is usually done using access modifiers like private, protected, and public to control visibility. Encapsulation ensures that an object’s internal state is protected from unintended interference and misuse. In short, abstraction deals with hiding implementation complexity, while encapsulation deals with hiding data to enforce security and integrity."
      ],
      "metadata": {
        "id": "MGNEuwwvdFi5"
      }
    },
    {
      "cell_type": "markdown",
      "source": [
        "5. What are dunder methods in Python ?"
      ],
      "metadata": {
        "id": "3gcZXZBKeOj5"
      }
    },
    {
      "cell_type": "markdown",
      "source": [
        "- Python's __init__, __str__, and __add__ are examples of dunder methods, which stand for \"double underscore methods\" (also known as magic methods). These methods are used to specify how objects in a class interact with built-in Python operations. For example, __init__ is called when a new object is formed, allowing you to set its attributes. Similarly, __str__ specifies how the object is shown as a string, typically when printed. Dunder methods allow you to customise object behaviour in a natural and Pythonic manner, including operator overloading, comparisons, and integration with Python's data model. Although you can define your own dunder methods, they are typically not called directly by your code; instead, Python automatically invokes them in the appropriate context (e.g., using + on objects triggers __add__)."
      ],
      "metadata": {
        "id": "2ez03Jtiedqp"
      }
    },
    {
      "cell_type": "markdown",
      "source": [
        "6. Explain the concept of inheritance in OOP."
      ],
      "metadata": {
        "id": "WXfvvagUezvJ"
      }
    },
    {
      "cell_type": "markdown",
      "source": [
        "- In Object-Oriented Programming (OOP), inheritance allows one class (known as the child or subclass) to inherit the characteristics and methods of another (known as the parent or superclass). This encourages code reuse and logical hierarchy by allowing new classes to build on existing ones. For example, if the parent class Animal has methods like eat() and sleep(), the subclass Dog can inherit those methods while also providing new behaviours like bark(). Inheritance enables subclasses to use, extend, or modify the functionality of their parent class, making programs more organised and maintainable. Python offers a variety of inheritance models, including single, multiple, multilevel, and hierarchical, allowing developers a wide range of options for designing relationships between classes."
      ],
      "metadata": {
        "id": "rONsWguBfJwy"
      }
    },
    {
      "cell_type": "markdown",
      "source": [
        "7. What is polymorphism in OOP ?"
      ],
      "metadata": {
        "id": "EQ9mnB41fYkQ"
      }
    },
    {
      "cell_type": "markdown",
      "source": [
        "- In Object-Oriented Programming (OOP), polymorphism refers to separate objects' capacity to respond differently to the same method or function call. It enables a single interface to represent numerous underlying data kinds or behaviours. For example, if various classes, such as Dog and Cat, each have a method named talk(), calling speak() on an object will provide different results depending on the object's class—Dog may return \"Bark\" while Cat returns \"Meow\". Polymorphism improves flexibility and scalability by allowing code to be written more generically, allowing functions to act on objects of various types as long as they use the same interface or method structure. This makes programs more modular and easy to expand or alter."
      ],
      "metadata": {
        "id": "-3sNWfvafeRK"
      }
    },
    {
      "cell_type": "markdown",
      "source": [
        "8. How is encapsulation achieved in Python ?"
      ],
      "metadata": {
        "id": "ZvRFXqP6fw3K"
      }
    },
    {
      "cell_type": "markdown",
      "source": [
        "- Encapsulation in Python is accomplished by grouping data (attributes) and methods (functions) within a class and limiting direct access to some of the object's components. Unlike some other languages, Python employs naming conventions to signify access levels. To make an attribute or method private, it is prefixed with double underscores (e.g., __balance), which causes name mangling and makes it difficult to access from outside the class. Protected members are identified with a single underscore (e.g., _balance), indicating that they should not be accessed directly, though this is still allowed. Public members, who can be accessed from outside the class, do not have an underscore prefix. Encapsulation allows class internals to be hidden from external code, improving security, data integrity, and modularity. It also enables the use of getter and setter methods to control how data is accessed or modified, providing an extra layer of validation or processing when needed"
      ],
      "metadata": {
        "id": "YNelJB__gR5A"
      }
    },
    {
      "cell_type": "markdown",
      "source": [
        "9. What is a constructor in Python ?"
      ],
      "metadata": {
        "id": "zZZ85bXMgXK6"
      }
    },
    {
      "cell_type": "markdown",
      "source": [
        "- A constructor in Python is a particular method that is used to initialise an object after it has been formed from a class. The __init__ method is the most often used constructor, and it is called automatically whenever a new instance of a class is created. This method lets you define and assign initial values to the object's attributes. For example, in a class Student, you could use the constructor to set the student's name and age during object construction. The __init__ method accepts parameters (other than self) and receives values given during instantiation. Although Python also has a __new__ method, which is responsible for creating a new instance before __init__ is called, it’s used mostly in advanced cases like customizing object creation in immutable classes. Constructors help ensure that every object starts with a valid and predictable state."
      ],
      "metadata": {
        "id": "uj5Y2KttgdDR"
      }
    },
    {
      "cell_type": "markdown",
      "source": [
        "10. What are class and static methods in Python ?"
      ],
      "metadata": {
        "id": "nJnZs92dhJgy"
      }
    },
    {
      "cell_type": "markdown",
      "source": [
        "- In Python, class methods and static methods are two sorts of methods that belong to the same class but have distinct purposes. A class method is defined using the @classmethod decorator and accepts cls (the class itself) as the first parameter rather than self. This means that it can access and modify class-level data, thus it is frequently used for factory methods or operations that affect the entire class rather than specific instances. A static method, on the other hand, is declared with the @staticmethod decorator and does not accept any parameters from self or cls. It works like a standard function but is stored within the class's namespace for logical grouping. Static methods do not access or modify class or instance attributes—they are used when some utility function is logically related to the class but doesn’t need access to class or object-specific data. Both class and static methods help organize code more cleanly and support object-oriented design principles."
      ],
      "metadata": {
        "id": "jxKLItz5hPAT"
      }
    },
    {
      "cell_type": "markdown",
      "source": [
        "11. - Method overloading in Python is the ability to declare numerous methods with the same name but varied amount or type of parameters. However, unlike certain other languages such as Java or C++, Python does not provide genuine method overloading in the conventional sense. In Python, if you declare multiple methods with the same name in a class, the most recent definition takes precedence over the others. To achieve comparable behaviour, developers typically utilise default arguments, also known as *args and **args, to allow a single method to accommodate a variety of inputs. This manner, the method may check the arguments at runtime and respond appropriately. Although it’s not formal method overloading, this flexible approach allows Python to mimic it and still support varied method behavior based on input."
      ],
      "metadata": {
        "id": "YbQDLK4Kh3J7"
      }
    },
    {
      "cell_type": "markdown",
      "source": [
        "12. What is method overriding in OOP ?"
      ],
      "metadata": {
        "id": "GW8W98G3iUvA"
      }
    },
    {
      "cell_type": "markdown",
      "source": [
        "- Method overriding in Object-Oriented Programming (OOP) is a feature that allows a subclass to provide a specific implementation of a method that is already defined in its superclass. When a method in the child class has the same name, return type, and parameters as the method in the parent class, the child class version overrides the parent’s version. This means that when the method is called on an object of the subclass, the overridden method is executed instead of the one in the superclass. Method overriding is a key aspect of polymorphism, as it allows different classes to define their own unique behaviors while sharing the same method interface. It promotes flexibility and reusability in code, enabling subclasses to extend or customize the behavior of base class methods without modifying the original implementation."
      ],
      "metadata": {
        "id": "wX2MuMf1ibia"
      }
    },
    {
      "cell_type": "markdown",
      "source": [
        "13. What is a property decorator in Python ?"
      ],
      "metadata": {
        "id": "iaOz32iDik6D"
      }
    },
    {
      "cell_type": "markdown",
      "source": [
        "- The property decorator in Python, denoted by @property, is used to define getter methods that can be accessed like attributes, providing a way to encapsulate instance data while maintaining a clean and readable syntax. When you use @property, you can call a method without parentheses, allowing it to look like a simple attribute access. This is useful for cases where you want to control access to a private attribute or compute a value dynamically while keeping the interface simple. You can also define corresponding setter and deleter methods using @<property_name>.setter and @<property_name>.deleter, which enable controlled updates and deletion of the property. The @property decorator promotes encapsulation, improves code readability, and allows developers to refactor internal logic without changing the external interface of the class."
      ],
      "metadata": {
        "id": "tkAoRj9ciyT5"
      }
    },
    {
      "cell_type": "markdown",
      "source": [
        "14. Why is polymorphism important in OOP ?"
      ],
      "metadata": {
        "id": "nsO3v_Vci0SB"
      }
    },
    {
      "cell_type": "markdown",
      "source": [
        "- Polymorphism is important in Object-Oriented Programming (OOP) because it allows objects of different classes to be treated as if they are of the same type, enabling code that is more flexible, reusable, and extensible. Through polymorphism, a common interface can be used to perform different behaviors depending on the object’s actual class. This is especially useful in scenarios like method overriding, where subclasses can provide their own implementation of a method defined in a superclass. As a result, polymorphism supports the design principle of programming to an interface, not an implementation, allowing developers to write more generic and maintainable code. It also makes it easier to extend programs in the future, since new classes can be added with minimal changes to existing code, as long as they adhere to the expected interface."
      ],
      "metadata": {
        "id": "3W7T4h4ljD_w"
      }
    },
    {
      "cell_type": "markdown",
      "source": [
        "15. What is an abstract class in Python ?"
      ],
      "metadata": {
        "id": "FMO6LSDCjGGB"
      }
    },
    {
      "cell_type": "markdown",
      "source": [
        "- In Python, an abstract class is one that cannot be instantiated but is intended to serve as a blueprint for other classes. It can provide abstract methods, which are method declarations without implementations, and require any subclass to provide concrete implementations for those methods. Abstract classes are constructed with the ABC module (Abstract Base Classes) and the @abstractmethod decorator. For example, an abstract class Animal may contain an abstract function make_sound() that any subclasses, such as Dog or Cat, must override. Abstract classes help to enforce a specific structure across several subclasses and facilitate polymorphism by assuring that all derived classes use the same interface. They are useful when you want to define a set of methods that must be implemented in any subclass, promoting consistency and reducing errors in large or complex codebases."
      ],
      "metadata": {
        "id": "-_7Upn_ejJ9A"
      }
    },
    {
      "cell_type": "markdown",
      "source": [
        "16. What are the advantages of OOP ?"
      ],
      "metadata": {
        "id": "BldaOjdqjf4B"
      }
    },
    {
      "cell_type": "markdown",
      "source": [
        "- Object-Oriented Programming (OOP) has several significant features that make it an effective method to software development. One of the primary advantages is modularity, which divides code into classes and objects, making it easier to manage and understand. OOP also encourages reusability through inheritance, allowing developers to add new functionality to existing code rather than rewriting it. Encapsulation protects data by limiting direct access and encouraging controlled interaction via techniques, which increases security and minimises the possibility of errors. Polymorphism provides code flexibility by allowing diverse objects to be processed via a common interface, making applications more scalable and maintainable. Furthermore, abstraction simplifies complex systems by concealing extraneous details and revealing only the essential components. Overall, OOP encourages cleaner, more organized, and more maintainable code, especially in large-scale or collaborative projects."
      ],
      "metadata": {
        "id": "E2DND4zsjsQy"
      }
    },
    {
      "cell_type": "markdown",
      "source": [
        "17. What is the difference between a class variable and an instance variable ?"
      ],
      "metadata": {
        "id": "72O2g3QmkG0a"
      }
    },
    {
      "cell_type": "markdown",
      "source": [
        "- In Python, a class variable differs from an instance variable in terms of scope and sharing. A class variable is shared by all instances of a class and is specified within the class but not in any instance methods. This means that if the value of a class variable changes at the class level, it affects all instances unless explicitly overridden. It is often used for properties that should be shared by all objects of that class. In contrast, an instance variable is specific to each object and is defined within methods, typically within the __init__ method, using the self keyword. Instance variables hold data that is specific to the individual object, and changing them in one instance does not affect others. This distinction helps manage shared versus unique data efficiently in object-oriented programming."
      ],
      "metadata": {
        "id": "WWUZXutAkUup"
      }
    },
    {
      "cell_type": "markdown",
      "source": [
        "18. What is multiple inheritance in Python ?"
      ],
      "metadata": {
        "id": "y9BqKNr3k8G6"
      }
    },
    {
      "cell_type": "markdown",
      "source": [
        "- many inheritance in Python enables a class to inherit characteristics and functions from many parent classes. This means that a single child class can incorporate functionality from numerous sources, resulting in increased code reuse and flexibility. For example, if class C inherits from both class A and class B, it gains access to their respective properties and behaviours. Python implements multiple inheritance with a method resolution order (MRO), which sets the order in which base classes are sought when executing a method or accessing an attribute. Multiple inheritance can be useful, but it can also cause complexity or conflicts if separate parent classes have methods with the same name. To manage this, Python uses the C3 linearization algorithm to resolve the order of method calls, ensuring consistency and predictability in inheritance hierarchies."
      ],
      "metadata": {
        "id": "gKx8hXzNlR8i"
      }
    },
    {
      "cell_type": "markdown",
      "source": [
        "19. Explain the purpose of ‘’__str__’ and ‘__repr__’ ‘ methods in Python."
      ],
      "metadata": {
        "id": "sG8zEqKAlZGq"
      }
    },
    {
      "cell_type": "markdown",
      "source": [
        "- The __str__ and __repr__ methods in Python are special, or dunder, methods used to define how objects are represented as strings. The __str__ method is intended to return a readable, user-friendly string representation of an object, often used for display purposes. It is automatically called when you use the print() function or str() on an object. In contrast, the __repr__ method is meant to return an unambiguous, developer-friendly string that ideally could be used to recreate the object using Python code. It is called when you use the repr() function or when an object is inspected in the interpreter. If __str__ is not defined, Python will fall back to __repr__. Implementing both methods makes it easier to debug and log objects, as well as present them clearly in both user-facing and internal contexts."
      ],
      "metadata": {
        "id": "WihuoBJ3l1HF"
      }
    },
    {
      "cell_type": "markdown",
      "source": [
        "20. What is the significance of the ‘super()’ function in Python ?"
      ],
      "metadata": {
        "id": "qtnOK4Uvl_jc"
      }
    },
    {
      "cell_type": "markdown",
      "source": [
        "- The super() function in Python is used to invoke methods from a parent or superclass within a subclass, allowing you to extend or change the behaviour of inherited methods without totally overriding them. It is particularly useful in inheritance hierarchies, when you wish to reuse code from the parent class while adding new functionality to the child class. For example, in a subclass's __init__ method, use super().__init__() invokes the parent class's constructor to ensure that the base initialisation logic is kept. Super() is particularly important in multiple inheritance since it uses the method resolution order (MRO) to identify which class's method should be executed next. This prevents duplicate calls and ensures a consistent and predictable inheritance chain. Overall, super() promotes code reuse, reduces duplication, and ensures that all necessary initialization and method logic across the class hierarchy is properly handled."
      ],
      "metadata": {
        "id": "dUWhelU4mjvE"
      }
    },
    {
      "cell_type": "markdown",
      "source": [
        "21. What is the significance of the __del__ method in Python ?"
      ],
      "metadata": {
        "id": "mf1cmpnlmpJl"
      }
    },
    {
      "cell_type": "markdown",
      "source": [
        "- The __del__ method in Python is a particular destructor method that is invoked automatically when an object is going to be destroyed or garbage collected. Its primary function is to let you to define cleanup behaviour, such as releasing external resources like files, network connections, or memory buffers that the object may have accumulated throughout its lifespan. However, using __del__ is generally avoided until absolutely essential, because the exact timing of its execution cannot be guaranteed—especially when reference cycles or complicated memory management are involved. Furthermore, reliance on __del__ can cause unforeseen problems if exceptions arise during object deletion. In current Python systems, context managers and the with statement are frequently used to handle resource management more predictably. Despite its limited use, the __del__ method can be helpful in certain cases where precise cleanup is needed when an object is deleted."
      ],
      "metadata": {
        "id": "k7NIJgsFm317"
      }
    },
    {
      "cell_type": "markdown",
      "source": [
        "22. What is the difference between @staticmethod and @classmethod in Python ?"
      ],
      "metadata": {
        "id": "q6EVoNSbok8I"
      }
    },
    {
      "cell_type": "markdown",
      "source": [
        "- The distinction between @staticmethod and @classmethod in Python is how they interact with the class and its instances. A method marked with @staticmethod does not accept any special first arguments, such as self or cls. It behaves like a typical function that is defined within a class but does not have access to the class or instance properties. It is commonly used for utility functions that are conceptually connected to the class but do not require access to its data. In contrast, a method marked with @classmethod accepts cls as its first argument, which refers to the class rather than an instance. This allows it to access or modify class-level variables and is useful for creating factory methods or performing operations that affect the class as a whole. While both decorators allow you to call the method using the class name, @classmethod is aware of the class context, whereas @staticmethod is completely independent of it."
      ],
      "metadata": {
        "id": "BmSIPFecpIGk"
      }
    },
    {
      "cell_type": "markdown",
      "source": [
        "23. How does polymorphism work in Python with inheritance ?"
      ],
      "metadata": {
        "id": "JSeC1Z1SpPTW"
      }
    },
    {
      "cell_type": "markdown",
      "source": [
        "- Polymorphism in Python integrates with inheritance by allowing objects from various subclasses to be viewed as objects from a common superclass while retaining their own distinct behaviour. Method overriding allows a subclass to offer its own implementation of a method defined in the parent class. When a method is called on an object, Python selects which version of the method to execute based on the object's real type rather than the reference's type. For example, if a superclass Animal has a method speak(), and subclasses Dog and Cat override this method with their own specific behaviors, calling speak() on a list of Animal objects—some of which are Dog, some Cat—will result in the appropriate method being called for each object. This dynamic method resolution enables polymorphism, making code more flexible, extensible, and easier to maintain by allowing the same interface to be used with different underlying forms."
      ],
      "metadata": {
        "id": "4UfkOp_fpVm1"
      }
    },
    {
      "cell_type": "markdown",
      "source": [
        "24. What is method chaining in Python OOP ?"
      ],
      "metadata": {
        "id": "cTTFO4-Fpyx1"
      }
    },
    {
      "cell_type": "markdown",
      "source": [
        "- Method chaining is a Python OOP programming technique that calls several methods on the same object in a single, continuous line of code. This is accomplished by creating methods that return the object itself—typically using return self at the conclusion of each function—so that further method calls can be appended. Method chaining improves code readability and conciseness, particularly when executing many operations on the same object. For example, in a class representing a text editor, you may write \"editor.\"set_font(\"Arial\").set_size(12).set_color(\"blue\"), linking all setup steps together. This approach not only produces cleaner code, but it also correlates well with the fluent interfaces typically employed in modern APIs. However, it requires careful method design to ensure each call correctly returns the expected object for the next method in the chain."
      ],
      "metadata": {
        "id": "QlcYacjmqKVO"
      }
    },
    {
      "cell_type": "markdown",
      "source": [
        "25. What is the purpose of the __call__ method in Python ?"
      ],
      "metadata": {
        "id": "0A1Pc7Y9qPxO"
      }
    },
    {
      "cell_type": "markdown",
      "source": [
        "- The __call__ method in Python is a special method that allows an instance of a class to be called like a regular function. When a class defines the __call__ method, you can use its objects with parentheses, as if you were calling a function. This adds function-like behavior to objects, enabling more flexible and intuitive interfaces. The main purpose of __call__ is to encapsulate behavior in an object that needs to maintain state between calls or when function-like objects are more suitable than standalone functions. For example, you might use it in a class that wraps a machine learning model, where calling the object directly runs a prediction. This method supports the principle of callable objects, making classes behave more dynamically and integrating smoothly with Python’s functional programming features."
      ],
      "metadata": {
        "id": "9pVGdtBwqcIe"
      }
    },
    {
      "cell_type": "markdown",
      "source": [
        "# Oops Practical Questions"
      ],
      "metadata": {
        "id": "K-3JwGdfqlk-"
      }
    },
    {
      "cell_type": "markdown",
      "source": [
        "1.  Create a parent class Animal with a method speak() that prints a generic message. Create a child class Dog\n",
        "that overrides the speak() method to print \"Bark!\".\n",
        "\n",
        "- Here’s a simple example of how to create a parent class Animal with a speak() method, and a child class Dog that overrides it:"
      ],
      "metadata": {
        "id": "aBwstsKHqt4A"
      }
    },
    {
      "cell_type": "code",
      "source": [
        "class Animal:\n",
        "    def speak(self):\n",
        "        print(\"The animal makes a sound.\")\n",
        "\n",
        "class Dog(Animal):\n",
        "    def speak(self):\n",
        "        print(\"Bark!\")\n",
        "\n",
        "# Example usage\n",
        "a = Animal()\n",
        "a.speak()  # Output: The animal makes a sound.\n",
        "\n",
        "d = Dog()\n",
        "d.speak()  # Output: Bark!"
      ],
      "metadata": {
        "colab": {
          "base_uri": "https://localhost:8080/"
        },
        "id": "HIuF85--q_1P",
        "outputId": "914c3160-1c0f-423e-d859-4c633b36138a"
      },
      "execution_count": 1,
      "outputs": [
        {
          "output_type": "stream",
          "name": "stdout",
          "text": [
            "The animal makes a sound.\n",
            "Bark!\n"
          ]
        }
      ]
    },
    {
      "cell_type": "markdown",
      "source": [
        "2. Write a program to create an abstract class Shape with a method area(). Derive classes Circle and Rectangle\n",
        "from it and implement the area() method in both.\n",
        "\n",
        "- Here’s a Python program demonstrating the use of an abstract class Shape with an abstract method area(), and two derived classes Circle and Rectangle that implement this method:"
      ],
      "metadata": {
        "id": "hWzxqBeirIdB"
      }
    },
    {
      "cell_type": "code",
      "source": [
        "from abc import ABC, abstractmethod\n",
        "import math\n",
        "\n",
        "# Abstract base class\n",
        "class Shape(ABC):\n",
        "\n",
        "    @abstractmethod\n",
        "    def area(self):\n",
        "        pass\n",
        "\n",
        "# Derived class: Circle\n",
        "class Circle(Shape):\n",
        "    def __init__(self, radius):\n",
        "        self.radius = radius\n",
        "\n",
        "    def area(self):\n",
        "        return math.pi * self.radius ** 2\n",
        "\n",
        "# Derived class: Rectangle\n",
        "class Rectangle(Shape):\n",
        "    def __init__(self, width, height):\n",
        "        self.width = width\n",
        "        self.height = height\n",
        "\n",
        "    def area(self):\n",
        "        return self.width * self.height\n"
      ],
      "metadata": {
        "id": "bV6FAqSmrZqb"
      },
      "execution_count": 2,
      "outputs": []
    },
    {
      "cell_type": "markdown",
      "source": [
        "3.  Implement a multi-level inheritance scenario where a class Vehicle has an attribute type. Derive a class Car\n",
        "and further derive a class ElectricCar that adds a battery attribute.\n",
        "\n",
        "- Here’s a Python program demonstrating multi-level inheritance with Vehicle → Car → ElectricCar:"
      ],
      "metadata": {
        "id": "iHnbTkj-rk46"
      }
    },
    {
      "cell_type": "code",
      "source": [
        "# Base class\n",
        "class Vehicle:\n",
        "    def __init__(self, vehicle_type):\n",
        "        self.type = vehicle_type\n",
        "\n",
        "# First derived class\n",
        "class Car(Vehicle):\n",
        "    def __init__(self, vehicle_type, brand):\n",
        "        super().__init__(vehicle_type)\n",
        "        self.brand = brand\n",
        "\n",
        "# Second derived class (multi-level)\n",
        "class ElectricCar(Car):\n",
        "    def __init__(self, vehicle_type, brand, battery_capacity):\n",
        "        super().__init__(vehicle_type, brand)\n",
        "        self.battery = battery_capacity\n",
        "\n",
        "    def display_info(self):\n",
        "        print(f\"Type: {self.type}\")\n",
        "        print(f\"Brand: {self.brand}\")\n",
        "        print(f\"Battery Capacity: {self.battery} kWh\")"
      ],
      "metadata": {
        "id": "LlL5AIbOrvJr"
      },
      "execution_count": 3,
      "outputs": []
    },
    {
      "cell_type": "markdown",
      "source": [
        "4. Demonstrate polymorphism by creating a base class Bird with a method fly(). Create two derived classes\n",
        "Sparrow and Penguin that override the fly() method.\n",
        "\n",
        "- Here’s a Python program demonstrating polymorphism using a base class Bird and two derived classes Sparrow and Penguin, each overriding the fly() method:"
      ],
      "metadata": {
        "id": "egS8w_YYr3BU"
      }
    },
    {
      "cell_type": "code",
      "source": [
        "# Base class\n",
        "class Bird:\n",
        "    def fly(self):\n",
        "        print(\"Some birds can fly.\")\n",
        "\n",
        "# Derived class: Sparrow\n",
        "class Sparrow(Bird):\n",
        "    def fly(self):\n",
        "        print(\"Sparrow flies high in the sky.\")\n",
        "\n",
        "# Derived class: Penguin\n",
        "class Penguin(Bird):\n",
        "    def fly(self):\n",
        "        print(\"Penguins cannot fly but they swim well.\")\n",
        "\n",
        "# Function demonstrating polymorphism\n",
        "def bird_flight(bird):\n",
        "    bird.fly()"
      ],
      "metadata": {
        "id": "3US8j_vpsBsG"
      },
      "execution_count": 4,
      "outputs": []
    },
    {
      "cell_type": "markdown",
      "source": [
        "5.  Write a program to demonstrate encapsulation by creating a class BankAccount with private attributes\n",
        "balance and methods to deposit, withdraw, and check balance.\n",
        "\n",
        "-Here’s a Python program that demonstrates encapsulation using a BankAccount class with private attributes and controlled access through methods:"
      ],
      "metadata": {
        "id": "U7Zkt8FssFJi"
      }
    },
    {
      "cell_type": "code",
      "source": [
        "class BankAccount:\n",
        "    def __init__(self, initial_balance=0):\n",
        "        self.__balance = initial_balance  # Private attribute\n",
        "\n",
        "    def deposit(self, amount):\n",
        "        if amount > 0:\n",
        "            self.__balance += amount\n",
        "            print(f\"Deposited: {amount}\")\n",
        "        else:\n",
        "            print(\"Deposit amount must be positive.\")\n",
        "\n",
        "    def withdraw(self, amount):\n",
        "        if 0 < amount <= self.__balance:\n",
        "            self.__balance -= amount\n",
        "            print(f\"Withdrawn: {amount}\")\n",
        "        else:\n",
        "            print(\"Insufficient funds or invalid amount.\")\n",
        "\n",
        "    def check_balance(self):\n",
        "        print(f\"Current balance: {self.__balance}\")"
      ],
      "metadata": {
        "id": "DHEU6wAVsUJX"
      },
      "execution_count": 5,
      "outputs": []
    },
    {
      "cell_type": "markdown",
      "source": [
        "6. Demonstrate runtime polymorphism using a method play() in a base class Instrument. Derive classes Guitar\n",
        "and Piano that implement their own version of play().\n",
        "\n",
        "- Here’s a Python program demonstrating runtime polymorphism using a base class Instrument with a method play(), and two derived classes Guitar and Piano that override this method:"
      ],
      "metadata": {
        "id": "6DspOYb7sZgL"
      }
    },
    {
      "cell_type": "code",
      "source": [
        "# Base class\n",
        "class Instrument:\n",
        "    def play(self):\n",
        "        print(\"The instrument is playing.\")\n",
        "\n",
        "# Derived class: Guitar\n",
        "class Guitar(Instrument):\n",
        "    def play(self):\n",
        "        print(\"Strumming the guitar.\")\n",
        "\n",
        "# Derived class: Piano\n",
        "class Piano(Instrument):\n",
        "    def play(self):\n",
        "        print(\"Playing the piano keys.\")\n",
        "\n",
        "# Function to demonstrate runtime polymorphism\n",
        "def perform(instrument):\n",
        "    instrument.play()\n",
        "\n",
        "# Example usage\n",
        "g = Guitar()\n",
        "p = Piano()\n",
        "\n",
        "perform(g)  # Output: Strumming the guitar.\n",
        "perform(p)  # Output: Playing the piano keys."
      ],
      "metadata": {
        "colab": {
          "base_uri": "https://localhost:8080/"
        },
        "id": "jSZ72FQwYIB-",
        "outputId": "e03c2105-2fb9-4665-e3fe-bc42a4aab56f"
      },
      "execution_count": 1,
      "outputs": [
        {
          "output_type": "stream",
          "name": "stdout",
          "text": [
            "Strumming the guitar.\n",
            "Playing the piano keys.\n"
          ]
        }
      ]
    },
    {
      "cell_type": "markdown",
      "source": [
        "7. Create a class MathOperations with a class method add_numbers() to add two numbers and a static\n",
        "method subtract_numbers() to subtract two numbers.\n",
        "\n",
        "- Here’s a Python program that demonstrates the use of a class method and a static method within a class MathOperations:"
      ],
      "metadata": {
        "id": "RwxWkZbGYQIk"
      }
    },
    {
      "cell_type": "code",
      "source": [
        "class MathOperations:\n",
        "\n",
        "    @classmethod\n",
        "    def add_numbers(cls, a, b):\n",
        "        return a + b\n",
        "\n",
        "    @staticmethod\n",
        "    def subtract_numbers(a, b):\n",
        "        return a - b\n",
        "\n",
        "# Example usage\n",
        "sum_result = MathOperations.add_numbers(10, 5)\n",
        "print(\"Sum:\", sum_result)  # Output: Sum: 15\n",
        "\n",
        "difference = MathOperations.subtract_numbers(10, 5)\n",
        "print(\"Difference:\", difference)"
      ],
      "metadata": {
        "colab": {
          "base_uri": "https://localhost:8080/"
        },
        "id": "HvPsrWfTYf83",
        "outputId": "2d5287ea-9ab8-4aa7-ff3d-a0d68aa55b50"
      },
      "execution_count": 3,
      "outputs": [
        {
          "output_type": "stream",
          "name": "stdout",
          "text": [
            "Sum: 15\n",
            "Difference: 5\n"
          ]
        }
      ]
    },
    {
      "cell_type": "markdown",
      "source": [
        "8.  Implement a class Person with a class method to count the total number of persons created.\n",
        "\n",
        "- Here’s a Python program that implements a Person class with a class method to keep track of how many Person objects have been created:"
      ],
      "metadata": {
        "id": "L79ssQCwY1vk"
      }
    },
    {
      "cell_type": "code",
      "source": [
        "class Person:\n",
        "    count = 0\n",
        "\n",
        "    def __init__(self, name):\n",
        "        self.name = name\n",
        "        Person.count += 1\n",
        "\n",
        "    @classmethod\n",
        "    def total_persons(cls):\n",
        "        return cls.count\n",
        "\n",
        "\n",
        "p1 = Person(\"Alice\")\n",
        "p2 = Person(\"Bob\")\n",
        "p3 = Person(\"Charlie\")\n",
        "\n",
        "print(\"Total persons created:\", Person.total_persons())"
      ],
      "metadata": {
        "colab": {
          "base_uri": "https://localhost:8080/"
        },
        "id": "NOXKAzYZZIZg",
        "outputId": "3fd4fa96-58c2-45c6-af64-a04d40272d1e"
      },
      "execution_count": 5,
      "outputs": [
        {
          "output_type": "stream",
          "name": "stdout",
          "text": [
            "Total persons created: 3\n"
          ]
        }
      ]
    },
    {
      "cell_type": "markdown",
      "source": [
        "9. Write a class Fraction with attributes numerator and denominator. Override the str method to display the\n",
        "fraction as \"numerator/denominator\".\n",
        "\n",
        "\n",
        "- Here’s a Python class Fraction that defines numerator and denominator as attributes and overrides the __str__ method to display the fraction in the form \"numerator/denominator\":"
      ],
      "metadata": {
        "id": "0uF6hjnpZqvX"
      }
    },
    {
      "cell_type": "code",
      "source": [
        "class Fraction:\n",
        "    def __init__(self, numerator, denominator):\n",
        "        self.numerator = numerator\n",
        "        self.denominator = denominator\n",
        "\n",
        "    def __str__(self):\n",
        "        return f\"{self.numerator}/{self.denominator}\"\n",
        "\n",
        "# Example usage\n",
        "f1 = Fraction(3, 4)\n",
        "f2 = Fraction(5, 2)\n",
        "\n",
        "print(f1)  # Output: 3/4\n",
        "print(f2)  # Output: 5/2"
      ],
      "metadata": {
        "colab": {
          "base_uri": "https://localhost:8080/"
        },
        "id": "c9XFt-FxZ54o",
        "outputId": "594a7548-9461-409d-ddcd-243e8b63d179"
      },
      "execution_count": 6,
      "outputs": [
        {
          "output_type": "stream",
          "name": "stdout",
          "text": [
            "3/4\n",
            "5/2\n"
          ]
        }
      ]
    },
    {
      "cell_type": "markdown",
      "source": [
        "10. Demonstrate operator overloading by creating a class Vector and overriding the add method to add two\n",
        "vectors\n",
        "\n",
        "- Here’s a Python program demonstrating operator overloading by creating a Vector class and overriding the __add__ method to add two vectors:"
      ],
      "metadata": {
        "id": "nHFKX9uoZ-tc"
      }
    },
    {
      "cell_type": "code",
      "source": [
        "class Vector:\n",
        "    def __init__(self, x, y):\n",
        "        self.x = x\n",
        "        self.y = y\n",
        "\n",
        "    # Overloading the + operator\n",
        "    def __add__(self, other):\n",
        "        return Vector(self.x + other.x, self.y + other.y)\n",
        "\n",
        "    def __str__(self):\n",
        "        return f\"Vector({self.x}, {self.y})\"\n",
        "\n",
        "# Example usage\n",
        "v1 = Vector(2, 3)\n",
        "v2 = Vector(4, 1)\n",
        "\n",
        "v3 = v1 + v2  # Uses overloaded __add__ method\n",
        "print(v3)     # Output: Vector(6, 4)"
      ],
      "metadata": {
        "colab": {
          "base_uri": "https://localhost:8080/"
        },
        "id": "YAEAQvPaaJRn",
        "outputId": "4d91a691-b3f8-4934-94ab-d65f973dfbf3"
      },
      "execution_count": 7,
      "outputs": [
        {
          "output_type": "stream",
          "name": "stdout",
          "text": [
            "Vector(6, 4)\n"
          ]
        }
      ]
    },
    {
      "cell_type": "markdown",
      "source": [
        "11. Create a class Person with attributes name and age. Add a method greet() that prints \"Hello, my name is\n",
        "{name} and I am {age} years old.\"\n",
        "\n",
        "- Here’s a simple Python class Person with name and age attributes, and a greet() method:"
      ],
      "metadata": {
        "id": "NFkfLB1iaPPM"
      }
    },
    {
      "cell_type": "code",
      "source": [
        "class Person:\n",
        "    def __init__(self, name, age):\n",
        "        self.name = name\n",
        "        self.age = age\n",
        "\n",
        "    def greet(self):\n",
        "        print(f\"Hello, my name is {self.name} and I am {self.age} years old.\")\n",
        "\n",
        "# Example usage\n",
        "p1 = Person(\"Alice\", 25)\n",
        "p1.greet()  # Output: Hello, my name is Alice and I am 25 years old."
      ],
      "metadata": {
        "colab": {
          "base_uri": "https://localhost:8080/"
        },
        "id": "DwHB3-n5aaGH",
        "outputId": "8f3582ae-0281-4d8a-f44d-ac68e2544abd"
      },
      "execution_count": 8,
      "outputs": [
        {
          "output_type": "stream",
          "name": "stdout",
          "text": [
            "Hello, my name is Alice and I am 25 years old.\n"
          ]
        }
      ]
    },
    {
      "cell_type": "markdown",
      "source": [
        "12. Implement a class Student with attributes name and grades. Create a method average_grade() to compute\n",
        "the average of the grades.\n",
        "\n",
        "- Here’s a Python class Student with attributes name and grades, along with a method average_grade() to compute the average:"
      ],
      "metadata": {
        "id": "2N3bSgWRaeym"
      }
    },
    {
      "cell_type": "code",
      "source": [
        "class Student:\n",
        "    def __init__(self, name, grades):\n",
        "        self.name = name\n",
        "        self.grades = grades  # grades should be a list of numbers\n",
        "\n",
        "    def average_grade(self):\n",
        "        if not self.grades:\n",
        "            return 0\n",
        "        return sum(self.grades) / len(self.grades)\n",
        "\n",
        "# Example usage\n",
        "s1 = Student(\"John\", [85, 90, 78, 92])\n",
        "print(f\"{s1.name}'s average grade is: {s1.average_grade()}\")  # Output: John's average grade is: 86.25"
      ],
      "metadata": {
        "colab": {
          "base_uri": "https://localhost:8080/"
        },
        "id": "9d8Gw9oMao3A",
        "outputId": "25eadbe7-da63-4206-ae8f-7e1b0315e018"
      },
      "execution_count": 9,
      "outputs": [
        {
          "output_type": "stream",
          "name": "stdout",
          "text": [
            "John's average grade is: 86.25\n"
          ]
        }
      ]
    },
    {
      "cell_type": "markdown",
      "source": [
        "13. Create a class Rectangle with methods set_dimensions() to set the dimensions and area() to calculate the\n",
        "area.\n",
        "\n",
        "- Here’s a Python class Rectangle with methods to set dimensions and calculate the area:"
      ],
      "metadata": {
        "id": "UwJua5whatv-"
      }
    },
    {
      "cell_type": "code",
      "source": [
        "class Rectangle:\n",
        "    def __init__(self):\n",
        "        self.length = 0\n",
        "        self.width = 0\n",
        "\n",
        "    def set_dimensions(self, length, width):\n",
        "        self.length = length\n",
        "        self.width = width\n",
        "\n",
        "    def area(self):\n",
        "        return self.length * self.width\n",
        "\n",
        "# Example usage\n",
        "rect = Rectangle()\n",
        "rect.set_dimensions(5, 3)\n",
        "print(\"Area of Rectangle:\", rect.area())  # Output: Area of Rectangle: 15"
      ],
      "metadata": {
        "colab": {
          "base_uri": "https://localhost:8080/"
        },
        "id": "nbk6qRlYa46A",
        "outputId": "991b25d9-e9ea-4376-e28d-7cf7dd8584f8"
      },
      "execution_count": 10,
      "outputs": [
        {
          "output_type": "stream",
          "name": "stdout",
          "text": [
            "Area of Rectangle: 15\n"
          ]
        }
      ]
    },
    {
      "cell_type": "markdown",
      "source": [
        "14.  Create a class Employee with a method calculate_salary() that computes the salary based on hours worked\n",
        "and hourly rate. Create a derived class Manager that adds a bonus to the salary.\n",
        "\n",
        "- Here’s a Python program demonstrating inheritance using an Employee class with a calculate_salary() method, and a derived Manager class that adds a bonus:"
      ],
      "metadata": {
        "id": "Mctq_kWVa8DW"
      }
    },
    {
      "cell_type": "code",
      "source": [
        "# Base class\n",
        "class Employee:\n",
        "    def __init__(self, name, hours_worked, hourly_rate):\n",
        "        self.name = name\n",
        "        self.hours_worked = hours_worked\n",
        "        self.hourly_rate = hourly_rate\n",
        "\n",
        "    def calculate_salary(self):\n",
        "        return self.hours_worked * self.hourly_rate\n",
        "\n",
        "# Derived class\n",
        "class Manager(Employee):\n",
        "    def __init__(self, name, hours_worked, hourly_rate, bonus):\n",
        "        super().__init__(name, hours_worked, hourly_rate)\n",
        "        self.bonus = bonus\n",
        "\n",
        "    def calculate_salary(self):\n",
        "        base_salary = super().calculate_salary()\n",
        "        return base_salary + self.bonus\n",
        "\n",
        "# Example usage\n",
        "emp = Employee(\"Alice\", 40, 20)\n",
        "print(f\"{emp.name}'s salary: {emp.calculate_salary()}\")  # Output: Alice's salary: 800\n",
        "\n",
        "mgr = Manager(\"Bob\", 40, 30, 500)\n",
        "print(f\"{mgr.name}'s salary: {mgr.calculate_salary()}\")  # Output: Bob's salary: 1700"
      ],
      "metadata": {
        "colab": {
          "base_uri": "https://localhost:8080/"
        },
        "id": "AlD5N6P7bMMA",
        "outputId": "e50b96c1-23ea-4f54-b87a-75ea3f133dd9"
      },
      "execution_count": 11,
      "outputs": [
        {
          "output_type": "stream",
          "name": "stdout",
          "text": [
            "Alice's salary: 800\n",
            "Bob's salary: 1700\n"
          ]
        }
      ]
    },
    {
      "cell_type": "markdown",
      "source": [
        "15. Create a class Product with attributes name, price, and quantity. Implement a method total_price() that\n",
        "calculates the total price of the product.\n",
        "\n",
        "- Here’s a Python class Product that defines attributes name, price, and quantity, and includes a method total_price() to calculate the total cost:"
      ],
      "metadata": {
        "id": "Q4RMSjIsbQSl"
      }
    },
    {
      "cell_type": "code",
      "source": [
        "class Product:\n",
        "    def __init__(self, name, price, quantity):\n",
        "        self.name = name\n",
        "        self.price = price\n",
        "        self.quantity = quantity\n",
        "\n",
        "    def total_price(self):\n",
        "        return self.price * self.quantity\n",
        "\n",
        "# Example usage\n",
        "p1 = Product(\"Laptop\", 50000, 2)\n",
        "print(f\"Total price for {p1.name}: ₹{p1.total_price()}\")  # Output: Total price for Laptop: ₹100000"
      ],
      "metadata": {
        "colab": {
          "base_uri": "https://localhost:8080/"
        },
        "id": "FNJ90XUybbkJ",
        "outputId": "136926fc-b76e-499a-b873-fcef7dfa0adc"
      },
      "execution_count": 12,
      "outputs": [
        {
          "output_type": "stream",
          "name": "stdout",
          "text": [
            "Total price for Laptop: ₹100000\n"
          ]
        }
      ]
    },
    {
      "cell_type": "markdown",
      "source": [
        "16. Create a class Animal with an abstract method sound(). Create two derived classes Cow and Sheep that\n",
        "implement the sound() method.\n",
        "\n",
        "- Here’s a Python program that demonstrates abstraction using an abstract class Animal with an abstract method sound(), and two derived classes Cow and Sheep that implement it:"
      ],
      "metadata": {
        "id": "mj3aqpw0bf2t"
      }
    },
    {
      "cell_type": "code",
      "source": [
        "from abc import ABC, abstractmethod\n",
        "\n",
        "# Abstract base class\n",
        "class Animal(ABC):\n",
        "\n",
        "    @abstractmethod\n",
        "    def sound(self):\n",
        "        pass\n",
        "\n",
        "# Derived class: Cow\n",
        "class Cow(Animal):\n",
        "    def sound(self):\n",
        "        return \"Moo\"\n",
        "\n",
        "# Derived class: Sheep\n",
        "class Sheep(Animal):\n",
        "    def sound(self):\n",
        "        return \"Baa\"\n",
        "\n",
        "# Example usage\n",
        "cow = Cow()\n",
        "sheep = Sheep()\n",
        "\n",
        "print(\"Cow sound:\", cow.sound())    # Output: Cow sound: Moo\n",
        "print(\"Sheep sound:\", sheep.sound())  # Output: Sheep sound: Baa"
      ],
      "metadata": {
        "colab": {
          "base_uri": "https://localhost:8080/"
        },
        "id": "KfAslBGhbtnw",
        "outputId": "b5f22a3e-46b5-47f7-d9bf-7a92515d86e3"
      },
      "execution_count": 13,
      "outputs": [
        {
          "output_type": "stream",
          "name": "stdout",
          "text": [
            "Cow sound: Moo\n",
            "Sheep sound: Baa\n"
          ]
        }
      ]
    },
    {
      "cell_type": "markdown",
      "source": [
        "17. Create a class Book with attributes title, author, and year_published. Add a method get_book_info() that\n",
        "returns a formatted string with the book's details.\n",
        "\n",
        "- Here’s a Python class Book that defines attributes title, author, and year_published, along with a method get_book_info() that returns a formatted string:\n"
      ],
      "metadata": {
        "id": "rRiGXOmEbxul"
      }
    },
    {
      "cell_type": "code",
      "source": [
        "class Book:\n",
        "    def __init__(self, title, author, year_published):\n",
        "        self.title = title\n",
        "        self.author = author\n",
        "        self.year_published = year_published\n",
        "\n",
        "    def get_book_info(self):\n",
        "        return f\"Title: {self.title}, Author: {self.author}, Year Published: {self.year_published}\"\n",
        "\n",
        "# Example usage\n",
        "book1 = Book(\"To Kill a Mockingbird\", \"Harper Lee\", 1960)\n",
        "print(book1.get_book_info())"
      ],
      "metadata": {
        "colab": {
          "base_uri": "https://localhost:8080/"
        },
        "id": "y65pbSp8cAcA",
        "outputId": "0f98d82b-04c5-4eca-b016-c9d109796038"
      },
      "execution_count": 14,
      "outputs": [
        {
          "output_type": "stream",
          "name": "stdout",
          "text": [
            "Title: To Kill a Mockingbird, Author: Harper Lee, Year Published: 1960\n"
          ]
        }
      ]
    },
    {
      "cell_type": "markdown",
      "source": [
        "18.  Create a class House with attributes address and price. Create a derived class Mansion that adds an\n",
        "attribute number_of_rooms.\n",
        "\n",
        "- Here’s a Python program that defines a base class House with attributes address and price, and a derived class Mansion that adds an additional attribute number_of_rooms:"
      ],
      "metadata": {
        "id": "bYrPnllvcD7f"
      }
    },
    {
      "cell_type": "code",
      "source": [
        "# Base class\n",
        "class House:\n",
        "    def __init__(self, address, price):\n",
        "        self.address = address\n",
        "        self.price = price\n",
        "\n",
        "# Derived class\n",
        "class Mansion(House):\n",
        "    def __init__(self, address, price, number_of_rooms):\n",
        "        super().__init__(address, price)\n",
        "        self.number_of_rooms = number_of_rooms\n",
        "\n",
        "    def display_info(self):\n",
        "        return f\"Address: {self.address}, Price: ₹{self.price}, Rooms: {self.number_of_rooms}\"\n",
        "\n",
        "# Example usage\n",
        "m1 = Mansion(\"123 Royal Street\", 100000000, 12)\n",
        "print(m1.display_info())"
      ],
      "metadata": {
        "colab": {
          "base_uri": "https://localhost:8080/"
        },
        "id": "tprxRi82cPfz",
        "outputId": "8b8513c3-58e9-4bc7-9feb-49cd56225a16"
      },
      "execution_count": 15,
      "outputs": [
        {
          "output_type": "stream",
          "name": "stdout",
          "text": [
            "Address: 123 Royal Street, Price: ₹100000000, Rooms: 12\n"
          ]
        }
      ]
    }
  ]
}